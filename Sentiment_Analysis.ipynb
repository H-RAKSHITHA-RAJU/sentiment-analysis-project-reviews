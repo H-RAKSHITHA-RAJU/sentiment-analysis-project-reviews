{
  "nbformat": 4,
  "nbformat_minor": 0,
  "metadata": {
    "colab": {
      "provenance": [],
      "authorship_tag": "ABX9TyNfT3GXr1nEExzRZd8+dezN",
      "include_colab_link": true
    },
    "kernelspec": {
      "name": "python3",
      "display_name": "Python 3"
    },
    "language_info": {
      "name": "python"
    }
  },
  "cells": [
    {
      "cell_type": "markdown",
      "metadata": {
        "id": "view-in-github",
        "colab_type": "text"
      },
      "source": [
        "<a href=\"https://colab.research.google.com/github/H-RAKSHITHA-RAJU/sentiment-analysis-project-reviews/blob/main/Sentiment_Analysis.ipynb\" target=\"_parent\"><img src=\"https://colab.research.google.com/assets/colab-badge.svg\" alt=\"Open In Colab\"/></a>"
      ]
    },
    {
      "cell_type": "code",
      "execution_count": 1,
      "metadata": {
        "colab": {
          "base_uri": "https://localhost:8080/"
        },
        "id": "IK7HTVa0LhpV",
        "outputId": "6da09e10-85ad-4c1c-f4ff-086afa02f50a"
      },
      "outputs": [
        {
          "output_type": "stream",
          "name": "stdout",
          "text": [
            "Mounted at /content/drive\n"
          ]
        }
      ],
      "source": [
        "# This cell mounts your Google Drive to the Colab environment.\n",
        "from google.colab import drive\n",
        "drive.mount('/content/drive')"
      ]
    },
    {
      "cell_type": "code",
      "source": [
        "import pandas as pd\n",
        "from sklearn.model_selection import train_test_split\n",
        "from sklearn.feature_extraction.text import TfidfVectorizer\n",
        "from sklearn.naive_bayes import MultinomialNB\n",
        "from sklearn.metrics import accuracy_score, classification_report\n",
        "import re\n",
        "import nltk\n",
        "from nltk.corpus import stopwords\n",
        "from nltk.stem import PorterStemmer\n",
        "\n",
        "# Download NLTK data (only needs to be done once per session)\n",
        "nltk.download('stopwords')\n",
        "\n",
        "# --- IMPORTANT ---\n",
        "# This file path now points to the file in your Google Drive.\n",
        "# Make sure your folder structure matches!\n",
        "filepath = '/content/drive/MyDrive/Colab_Projects/sentiment-analysis-project/data/amazon_cells_labelled.txt'\n",
        "\n",
        "# Load the dataset\n",
        "df = pd.read_csv(filepath, sep='\\t', header=None, names=['review', 'sentiment'])\n",
        "\n",
        "# Display the first 5 rows to confirm it loaded correctly\n",
        "print(df.head())"
      ],
      "metadata": {
        "colab": {
          "base_uri": "https://localhost:8080/"
        },
        "id": "Q8C4xzDaMKed",
        "outputId": "22beecba-ee11-4d77-9180-62ba19392dad"
      },
      "execution_count": 2,
      "outputs": [
        {
          "output_type": "stream",
          "name": "stderr",
          "text": [
            "[nltk_data] Downloading package stopwords to /root/nltk_data...\n",
            "[nltk_data]   Unzipping corpora/stopwords.zip.\n"
          ]
        },
        {
          "output_type": "stream",
          "name": "stdout",
          "text": [
            "                                              review  sentiment\n",
            "0  So there is no way for me to plug it in here i...          0\n",
            "1                        Good case, Excellent value.          1\n",
            "2                             Great for the jawbone.          1\n",
            "3  Tied to charger for conversations lasting more...          0\n",
            "4                                  The mic is great.          1\n"
          ]
        }
      ]
    },
    {
      "cell_type": "code",
      "source": [
        "stemmer = PorterStemmer()\n",
        "stop_words = set(stopwords.words('english'))\n",
        "\n",
        "def preprocess_text(text):\n",
        "    text = re.sub('[^a-zA-Z]', ' ', text).lower()\n",
        "    words = text.split()\n",
        "    words = [stemmer.stem(word) for word in words if word not in stop_words]\n",
        "    return ' '.join(words)\n",
        "\n",
        "df['cleaned_review'] = df['review'].apply(preprocess_text)\n",
        "print(\"Preprocessing complete.\")\n",
        "print(df.head())"
      ],
      "metadata": {
        "colab": {
          "base_uri": "https://localhost:8080/"
        },
        "id": "XNbLbhV0MU7v",
        "outputId": "89fdf7a7-0327-401c-f624-d4a5de03d521"
      },
      "execution_count": 3,
      "outputs": [
        {
          "output_type": "stream",
          "name": "stdout",
          "text": [
            "Preprocessing complete.\n",
            "                                              review  sentiment  \\\n",
            "0  So there is no way for me to plug it in here i...          0   \n",
            "1                        Good case, Excellent value.          1   \n",
            "2                             Great for the jawbone.          1   \n",
            "3  Tied to charger for conversations lasting more...          0   \n",
            "4                                  The mic is great.          1   \n",
            "\n",
            "                                 cleaned_review  \n",
            "0                 way plug us unless go convert  \n",
            "1                          good case excel valu  \n",
            "2                                  great jawbon  \n",
            "3  tie charger convers last minut major problem  \n",
            "4                                     mic great  \n"
          ]
        }
      ]
    },
    {
      "cell_type": "code",
      "source": [
        "# Define features (X) and target (y)\n",
        "X = df['cleaned_review']\n",
        "y = df['sentiment']\n",
        "\n",
        "# Initialize TF-IDF Vectorizer\n",
        "tfidf_vectorizer = TfidfVectorizer(max_features=1500) # Using more features\n",
        "X_tfidf = tfidf_vectorizer.fit_transform(X)\n",
        "\n",
        "# Split data into training and testing sets\n",
        "X_train, X_test, y_train, y_test = train_test_split(X_tfidf, y, test_size=0.2, random_state=42)\n",
        "\n",
        "# Initialize and train the Naive Bayes model\n",
        "model = MultinomialNB()\n",
        "model.fit(X_train, y_train)\n",
        "\n",
        "# Make predictions\n",
        "y_pred = model.predict(X_test)\n",
        "\n",
        "# Evaluate the model\n",
        "accuracy = accuracy_score(y_test, y_pred)\n",
        "report = classification_report(y_test, y_pred)\n",
        "\n",
        "print(f\"Model Accuracy: {accuracy * 100:.2f}%\")\n",
        "print(\"\\nClassification Report:\\n\", report)"
      ],
      "metadata": {
        "colab": {
          "base_uri": "https://localhost:8080/"
        },
        "id": "hVIJ_DncMdrY",
        "outputId": "93360921-4618-4189-9f5d-ed5628a45644"
      },
      "execution_count": 6,
      "outputs": [
        {
          "output_type": "stream",
          "name": "stdout",
          "text": [
            "Model Accuracy: 81.50%\n",
            "\n",
            "Classification Report:\n",
            "               precision    recall  f1-score   support\n",
            "\n",
            "           0       0.81      0.78      0.80        93\n",
            "           1       0.82      0.84      0.83       107\n",
            "\n",
            "    accuracy                           0.81       200\n",
            "   macro avg       0.81      0.81      0.81       200\n",
            "weighted avg       0.81      0.81      0.81       200\n",
            "\n"
          ]
        }
      ]
    }
  ]
}